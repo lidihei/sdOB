{
 "cells": [
  {
   "cell_type": "markdown",
   "metadata": {},
   "source": [
    "# read and interpolate limb and gravite-darkening coefficient of [Claret et al. 2020](https://ui.adsabs.harvard.edu/abs/2020A%26A...634A..93C/abstract)"
   ]
  },
  {
   "cell_type": "code",
   "execution_count": 3,
   "metadata": {},
   "outputs": [],
   "source": [
    "from astropy.io import fits\n",
    "import numpy as np\n",
    "from astropy.table import Table"
   ]
  },
  {
   "cell_type": "code",
   "execution_count": 10,
   "metadata": {},
   "outputs": [],
   "source": [
    "from sdOB.utils.lyd import claret_tab, lydClaret"
   ]
  },
  {
   "cell_type": "markdown",
   "metadata": {},
   "source": [
    "# limb darkening coefficient of Tess from LDCs DA models"
   ]
  },
  {
   "cell_type": "code",
   "execution_count": 5,
   "metadata": {},
   "outputs": [
    {
     "data": {
      "text/plain": [
       "(0.7649600000000001,\n",
       " -1.1051200000000008,\n",
       " 1.0348600000000008,\n",
       " -0.37220000000000036,\n",
       " 1.72796)"
      ]
     },
     "execution_count": 5,
     "metadata": {},
     "output_type": "execute_result"
    }
   ],
   "source": [
    "fname = '/home/lijiao/lijiao/Documents/Claret_limb_gravity_beaming/2020/Gravity_limb-darkening/TABLE104C'\n",
    "ctab = claret_tab()\n",
    "names, data = ctab.read_tab2020(fname)\n",
    "grid_pars = data[:, [0,1]].T\n",
    "indc = [4+5*_ for _ in [0, 1, 2, 3, 6]]\n",
    "grid_data = data[:, indc].T\n",
    "axis_values, pixelgrid = ctab.create_pixeltypegrid(grid_pars=grid_pars, grid_data=grid_data)\n",
    "p = np.array([[5.25], [36000]])\n",
    "cc= ctab.interpolate(p, axis_values=None, pixelgrid=None)\n",
    "a1, a2, a3, a4, bfac = cc.T[0]\n",
    "\n",
    "a1, a2, a3, a4, bfac"
   ]
  },
  {
   "cell_type": "markdown",
   "metadata": {},
   "source": [
    "# Gravity darkening coeffiecient of Tess from LDCs DA models"
   ]
  },
  {
   "cell_type": "code",
   "execution_count": 6,
   "metadata": {},
   "outputs": [
    {
     "data": {
      "text/plain": [
       "array([ 0.3829 , -0.01608])"
      ]
     },
     "execution_count": 6,
     "metadata": {},
     "output_type": "execute_result"
    }
   ],
   "source": [
    "fname = '/home/lijiao/lijiao/Documents/Claret_limb_gravity_beaming/2020/Gravity_limb-darkening/TABLE105C'\n",
    "ctab = claret_tab()\n",
    "names, data = ctab.read_tab2020(fname, skiprows=2, skipcolumns=3)\n",
    "grid_pars = data[:, [0,1]].T\n",
    "indc = [4+5*_ for _ in [0, 1]]\n",
    "grid_data = data[:, indc].T\n",
    "axis_values, pixelgrid = ctab.create_pixeltypegrid(grid_pars=grid_pars, grid_data=grid_data)\n",
    "p = np.array([[5.25], [36000]])\n",
    "cc= ctab.interpolate(p, axis_values=None, pixelgrid=None)\n",
    "cc.T[0]"
   ]
  },
  {
   "cell_type": "code",
   "execution_count": 11,
   "metadata": {},
   "outputs": [],
   "source": [
    "##-------------------initialize class of Claret_tab DA------------------------------------------\n",
    "_fname = '/home/lijiao/lijiao/Documents/Claret_limb_gravity_beaming/2020/Gravity_limb-darkening/TABLE104C'                                                               \n",
    "ldtab = claret_tab()\n",
    "names, data = ldtab.read_tab2020(_fname)\n",
    "grid_pars = data[:, [0,1]].T\n",
    "indc = [4+5*_ for _ in [0, 1, 2, 3, 6]]\n",
    "grid_data = data[:, indc].T\n",
    "_, _ = ldtab.create_pixeltypegrid(grid_pars=grid_pars, grid_data=grid_data)\n",
    "\n",
    "_fname = '/home/lijiao/lijiao/Documents/Claret_limb_gravity_beaming/2020/Gravity_limb-darkening/TABLE105C'                                                               \n",
    "# downloaded from https://cdsarc.cds.unistra.fr/ftp/J/A+A/634/A93/OriginalTab.tar.gz\n",
    "ytab = claret_tab()\n",
    "names, data = ytab.read_tab2020(_fname, skiprows=2, skipcolumns=3)\n",
    "grid_pars = data[:, [0,1]].T\n",
    "indc = [4+5*_ for _ in [0, 1]]\n",
    "grid_data = data[:, indc].T                                                                                                                                               \n",
    "_, _ = ytab.create_pixeltypegrid(grid_pars=grid_pars, grid_data=grid_data)\n",
    "\n",
    "Teff, logg = 35030.0, 5.307\n",
    "\n",
    "##-----------limb, gravity and doppler boosting factor--------------------------------   \n",
    "lydinterp = lydClaret()\n",
    "_ldc_bfac_y = lydinterp.interpolate_ldy_from_DA(Teff, logg, ldtab=ldtab, ytab=ytab)\n",
    "ldc_1 = [_[0] for _ in _ldc_bfac_y[:4]]  # DA LTE paramerters =  np.array([[5.25], [36000]])                                                                             \n",
    "gdc_1 =_ldc_bfac_y[4][0]# DA LTE\n",
    "bfac_1 = _ldc_bfac_y[5]\n",
    "####----------------------------------------------------------------------------------"
   ]
  },
  {
   "cell_type": "markdown",
   "metadata": {},
   "source": [
    "# Limb darkening coeffiecient of Tess from LDCs ATLAS models xi =2"
   ]
  },
  {
   "cell_type": "code",
   "execution_count": 7,
   "metadata": {},
   "outputs": [
    {
     "data": {
      "text/plain": [
       "array([ 0.88047901, -1.23483012,  1.09692598, -0.37327191])"
      ]
     },
     "execution_count": 7,
     "metadata": {},
     "output_type": "execute_result"
    }
   ],
   "source": [
    "fname_ldc = '/home/lijiao/lijiao/Documents/Claret_limb_gravity_beaming/2017/J_A+A_600_A30/table28.dat.gz'\n",
    "\n",
    "ctab = claret_tab()\n",
    "_ = ctab.read_tab2017_ldc(fname_ldc)\n",
    "_, _ = ctab.fix_parameter(index = 3, fix_value=2)\n",
    "axis_values, pixelgrid = ctab.create_pixeltypegrid()\n",
    "p = np.array([[5], [np.log10(34999)], [0]])\n",
    "cc= ctab.interpolate(p, axis_values=axis_values, pixelgrid=pixelgrid)\n",
    "cc.T[0]"
   ]
  },
  {
   "cell_type": "markdown",
   "metadata": {},
   "source": [
    "# Gravity darkening coeffiecient of Tess from LDCs ATLAS models"
   ]
  },
  {
   "cell_type": "code",
   "execution_count": 29,
   "metadata": {},
   "outputs": [
    {
     "data": {
      "text/plain": [
       "array([[0.43510931]])"
      ]
     },
     "execution_count": 29,
     "metadata": {},
     "output_type": "execute_result"
    }
   ],
   "source": [
    "fname_y = '/home/lijiao/lijiao/Documents/Claret_limb_gravity_beaming/2017/J_A+A_600_A30/table29.dat.gz'\n",
    "ctab = claret_tab()\n",
    "_ = ctab.read_tab2017_y(fname_y)\n",
    "_, _ = ctab.fix_parameter(index = 3, fix_value=2)\n",
    "axis_values, pixelgrid = ctab.create_pixeltypegrid()\n",
    "p = np.array([[5], [np.log10(34090)], [0]])\n",
    "cc= ctab.interpolate(p, axis_values=axis_values, pixelgrid=pixelgrid)\n",
    "cc.T"
   ]
  },
  {
   "cell_type": "code",
   "execution_count": 67,
   "metadata": {},
   "outputs": [
    {
     "name": "stdout",
     "output_type": "stream",
     "text": [
      "a1,a2,a3,a4 =  [nan, nan, nan, nan]\n",
      "y= nan\n"
     ]
    }
   ],
   "source": [
    "##-------------------initialize class of Claret_tab ATLAS------------------------------------------\n",
    "_fname = '/home/lijiao/lijiao/Documents/Claret_limb_gravity_beaming/2017/J_A+A_600_A30/table28.dat.gz'\n",
    "ldtab = claret_tab()\n",
    "_ = ldtab.read_tab2017_ldc(_fname)\n",
    "_, _ = ldtab.fix_parameter(index = 3, fix_value=2)\n",
    "_, _ = ldtab.create_pixeltypegrid()\n",
    "\n",
    "\n",
    "_fname = '/home/lijiao/lijiao/Documents/Claret_limb_gravity_beaming/2017/J_A+A_600_A30/table29.dat.gz'                                                             \n",
    "# downloaded from https://cdsarc.cds.unistra.fr/ftp/J/A+A/634/A93/OriginalTab.tar.gz\n",
    "ytab = claret_tab()\n",
    "_ = ytab.read_tab2017_y(_fname)\n",
    "_, _ = ytab.fix_parameter(index = 3, fix_value=2)                                                                                                                                             \n",
    "_, _ = ytab.create_pixeltypegrid()\n",
    "\n",
    "Teff, logg, Z = 34090, 5, 0\n",
    "\n",
    "Teff, logg, Z = 30618, 3.8, np.log10(0.38)\n",
    "Teff, logg, Z = 27000, 1, np.log10(0.38)\n",
    "\n",
    "##-----------limb, gravity factor--------------------------------   \n",
    "lydinterp = lydClaret()\n",
    "_ldc_bfac_y = lydinterp.interpolate_ldy3(Teff, logg, Z, ldtab=ldtab, ytab=ytab)\n",
    "ldc_1 = [_[0] for _ in _ldc_bfac_y[:4]]                                                                              \n",
    "gdc_1 =_ldc_bfac_y[4][0][0]\n",
    "print(f'a1,a2,a3,a4 = ', ldc_1)\n",
    "print(f'y=', gdc_1)\n",
    "####----------------------------------------------------------------------------------"
   ]
  },
  {
   "cell_type": "code",
   "execution_count": 69,
   "metadata": {},
   "outputs": [
    {
     "data": {
      "text/plain": [
       "True"
      ]
     },
     "execution_count": 69,
     "metadata": {},
     "output_type": "execute_result"
    }
   ],
   "source": []
  },
  {
   "cell_type": "code",
   "execution_count": 46,
   "metadata": {},
   "outputs": [
    {
     "data": {
      "text/plain": [
       "1.0"
      ]
     },
     "execution_count": 46,
     "metadata": {},
     "output_type": "execute_result"
    }
   ],
   "source": [
    "np.max(ytab.grid_pars[2])"
   ]
  },
  {
   "cell_type": "code",
   "execution_count": null,
   "metadata": {},
   "outputs": [],
   "source": []
  }
 ],
 "metadata": {
  "kernelspec": {
   "display_name": "Python 3",
   "language": "python",
   "name": "python3"
  },
  "language_info": {
   "codemirror_mode": {
    "name": "ipython",
    "version": 3
   },
   "file_extension": ".py",
   "mimetype": "text/x-python",
   "name": "python",
   "nbconvert_exporter": "python",
   "pygments_lexer": "ipython3",
   "version": "3.8.3"
  }
 },
 "nbformat": 4,
 "nbformat_minor": 4
}
